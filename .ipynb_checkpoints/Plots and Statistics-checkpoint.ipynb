{
 "cells": [
  {
   "cell_type": "code",
   "execution_count": 3,
   "metadata": {},
   "outputs": [],
   "source": [
    "import numpy as np\n",
    "import matplotlib.pyplot as plt\n",
    "import pandas as pd\n",
    "from pandas_ods_reader import read_ods\n",
    "from pyexcel import get_book\n",
    "import re, string"
   ]
  },
  {
   "cell_type": "code",
   "execution_count": 4,
   "metadata": {},
   "outputs": [
    {
     "data": {
      "text/plain": [
       "['G33L Abdominal ',\n",
       " 'G33L Breasst ',\n",
       " 'G33L H&N',\n",
       " 'G33L Prostate',\n",
       " 'G32G Abdominal',\n",
       " 'G32G Breast',\n",
       " 'G32G H&N',\n",
       " 'G32G Prostate',\n",
       " 'Diff Abdominal',\n",
       " 'Diff Breast',\n",
       " 'Diff H&N',\n",
       " 'Diff Prostate']"
      ]
     },
     "execution_count": 4,
     "metadata": {},
     "output_type": "execute_result"
    }
   ],
   "source": [
    "#read file\n",
    "file = r'MasterFile - Year 2017.ods'\n",
    "sheet = get_book(file_name=file)\n",
    "sheet_list = sheet.sheet_names()\n",
    "sheet_list.remove('Notes')\n",
    "data = {name: read_ods(file, name) for name in sheet_list}\n",
    "sheet_list"
   ]
  },
  {
   "cell_type": "code",
   "execution_count": 5,
   "metadata": {},
   "outputs": [
    {
     "data": {
      "text/html": [
       "<div>\n",
       "<style scoped>\n",
       "    .dataframe tbody tr th:only-of-type {\n",
       "        vertical-align: middle;\n",
       "    }\n",
       "\n",
       "    .dataframe tbody tr th {\n",
       "        vertical-align: top;\n",
       "    }\n",
       "\n",
       "    .dataframe thead th {\n",
       "        text-align: right;\n",
       "    }\n",
       "</style>\n",
       "<table border=\"1\" class=\"dataframe\">\n",
       "  <thead>\n",
       "    <tr style=\"text-align: right;\">\n",
       "      <th></th>\n",
       "      <th>ID</th>\n",
       "      <th>DMES</th>\n",
       "      <th>DCAL</th>\n",
       "      <th>G33L</th>\n",
       "      <th>CLG33L</th>\n",
       "      <th>DIFF</th>\n",
       "      <th>MR</th>\n",
       "      <th>05/08/17 – 15/02/28</th>\n",
       "      <th>unnamed.3</th>\n",
       "    </tr>\n",
       "  </thead>\n",
       "  <tbody>\n",
       "    <tr>\n",
       "      <th>0</th>\n",
       "      <td>1.0</td>\n",
       "      <td>1.798717</td>\n",
       "      <td>1.778</td>\n",
       "      <td>0.971</td>\n",
       "      <td>0.04855</td>\n",
       "      <td>NaN</td>\n",
       "      <td>NaN</td>\n",
       "      <td>Gamma average</td>\n",
       "      <td>0.972400</td>\n",
       "    </tr>\n",
       "    <tr>\n",
       "      <th>1</th>\n",
       "      <td>2.0</td>\n",
       "      <td>1.779716</td>\n",
       "      <td>1.816</td>\n",
       "      <td>0.968</td>\n",
       "      <td>0.09695</td>\n",
       "      <td>0.003</td>\n",
       "      <td>NaN</td>\n",
       "      <td>STAN-DEV</td>\n",
       "      <td>0.000558</td>\n",
       "    </tr>\n",
       "    <tr>\n",
       "      <th>2</th>\n",
       "      <td>3.0</td>\n",
       "      <td>1.762920</td>\n",
       "      <td>1.786</td>\n",
       "      <td>0.999</td>\n",
       "      <td>0.14690</td>\n",
       "      <td>0.031</td>\n",
       "      <td>0.001789</td>\n",
       "      <td>β</td>\n",
       "      <td>6.000000</td>\n",
       "    </tr>\n",
       "    <tr>\n",
       "      <th>3</th>\n",
       "      <td>4.0</td>\n",
       "      <td>2.023142</td>\n",
       "      <td>1.991</td>\n",
       "      <td>0.961</td>\n",
       "      <td>0.19495</td>\n",
       "      <td>0.038</td>\n",
       "      <td>0.003789</td>\n",
       "      <td>T</td>\n",
       "      <td>1.000000</td>\n",
       "    </tr>\n",
       "    <tr>\n",
       "      <th>4</th>\n",
       "      <td>5.0</td>\n",
       "      <td>2.100162</td>\n",
       "      <td>2.069</td>\n",
       "      <td>0.998</td>\n",
       "      <td>0.24485</td>\n",
       "      <td>0.037</td>\n",
       "      <td>0.005737</td>\n",
       "      <td>Width AL</td>\n",
       "      <td>0.217966</td>\n",
       "    </tr>\n",
       "  </tbody>\n",
       "</table>\n",
       "</div>"
      ],
      "text/plain": [
       "   ID       DMES   DCAL   G33L   CLG33L   DIFF        MR 05/08/17 – 15/02/28  \\\n",
       "0  1.0  1.798717  1.778  0.971  0.04855    NaN       NaN       Gamma average   \n",
       "1  2.0  1.779716  1.816  0.968  0.09695  0.003       NaN            STAN-DEV   \n",
       "2  3.0  1.762920  1.786  0.999  0.14690  0.031  0.001789                   β   \n",
       "3  4.0  2.023142  1.991  0.961  0.19495  0.038  0.003789                   T   \n",
       "4  5.0  2.100162  2.069  0.998  0.24485  0.037  0.005737           Width AL    \n",
       "\n",
       "   unnamed.3  \n",
       "0   0.972400  \n",
       "1   0.000558  \n",
       "2   6.000000  \n",
       "3   1.000000  \n",
       "4   0.217966  "
      ]
     },
     "execution_count": 5,
     "metadata": {},
     "output_type": "execute_result"
    }
   ],
   "source": [
    "#show data\n",
    "data['G33L Abdominal '].head()"
   ]
  },
  {
   "cell_type": "code",
   "execution_count": 17,
   "metadata": {
    "scrolled": true
   },
   "outputs": [
    {
     "data": {
      "text/html": [
       "<div>\n",
       "<style scoped>\n",
       "    .dataframe tbody tr th:only-of-type {\n",
       "        vertical-align: middle;\n",
       "    }\n",
       "\n",
       "    .dataframe tbody tr th {\n",
       "        vertical-align: top;\n",
       "    }\n",
       "\n",
       "    .dataframe thead th {\n",
       "        text-align: right;\n",
       "    }\n",
       "</style>\n",
       "<table border=\"1\" class=\"dataframe\">\n",
       "  <thead>\n",
       "    <tr style=\"text-align: right;\">\n",
       "      <th></th>\n",
       "      <th>ID</th>\n",
       "      <th>DMES</th>\n",
       "      <th>DCAL</th>\n",
       "      <th>DIFF</th>\n",
       "      <th>CLDIFF</th>\n",
       "      <th>DIFFMESURA</th>\n",
       "      <th>MR</th>\n",
       "      <th>statistics</th>\n",
       "      <th>values</th>\n",
       "    </tr>\n",
       "  </thead>\n",
       "  <tbody>\n",
       "    <tr>\n",
       "      <th>0</th>\n",
       "      <td>1.0</td>\n",
       "      <td>1.718466</td>\n",
       "      <td>1.722</td>\n",
       "      <td>-0.002052</td>\n",
       "      <td>-0.000103</td>\n",
       "      <td>NaN</td>\n",
       "      <td>NaN</td>\n",
       "      <td>G33L  Media</td>\n",
       "      <td>0.000674</td>\n",
       "    </tr>\n",
       "    <tr>\n",
       "      <th>1</th>\n",
       "      <td>2.0</td>\n",
       "      <td>2.008513</td>\n",
       "      <td>1.998</td>\n",
       "      <td>0.005262</td>\n",
       "      <td>0.000160</td>\n",
       "      <td>0.007314</td>\n",
       "      <td>NaN</td>\n",
       "      <td>STAN-DEV</td>\n",
       "      <td>0.000217</td>\n",
       "    </tr>\n",
       "    <tr>\n",
       "      <th>2</th>\n",
       "      <td>3.0</td>\n",
       "      <td>1.990116</td>\n",
       "      <td>1.956</td>\n",
       "      <td>0.017442</td>\n",
       "      <td>0.001033</td>\n",
       "      <td>0.012180</td>\n",
       "      <td>0.001026</td>\n",
       "      <td>β</td>\n",
       "      <td>6.000000</td>\n",
       "    </tr>\n",
       "    <tr>\n",
       "      <th>3</th>\n",
       "      <td>4.0</td>\n",
       "      <td>1.833607</td>\n",
       "      <td>1.869</td>\n",
       "      <td>-0.018937</td>\n",
       "      <td>0.000086</td>\n",
       "      <td>0.036379</td>\n",
       "      <td>0.002941</td>\n",
       "      <td>T</td>\n",
       "      <td>0.000000</td>\n",
       "    </tr>\n",
       "    <tr>\n",
       "      <th>4</th>\n",
       "      <td>5.0</td>\n",
       "      <td>1.737101</td>\n",
       "      <td>1.735</td>\n",
       "      <td>0.001211</td>\n",
       "      <td>0.000146</td>\n",
       "      <td>0.020148</td>\n",
       "      <td>0.004001</td>\n",
       "      <td>Width AL</td>\n",
       "      <td>0.088534</td>\n",
       "    </tr>\n",
       "  </tbody>\n",
       "</table>\n",
       "</div>"
      ],
      "text/plain": [
       "    ID      DMES   DCAL      DIFF    CLDIFF  DIFFMESURA        MR  \\\n",
       "0  1.0  1.718466  1.722 -0.002052 -0.000103         NaN       NaN   \n",
       "1  2.0  2.008513  1.998  0.005262  0.000160    0.007314       NaN   \n",
       "2  3.0  1.990116  1.956  0.017442  0.001033    0.012180  0.001026   \n",
       "3  4.0  1.833607  1.869 -0.018937  0.000086    0.036379  0.002941   \n",
       "4  5.0  1.737101  1.735  0.001211  0.000146    0.020148  0.004001   \n",
       "\n",
       "    statistics    values  \n",
       "0  G33L  Media  0.000674  \n",
       "1     STAN-DEV  0.000217  \n",
       "2            β  6.000000  \n",
       "3            T  0.000000  \n",
       "4    Width AL   0.088534  "
      ]
     },
     "execution_count": 17,
     "metadata": {},
     "output_type": "execute_result"
    }
   ],
   "source": [
    "#correct column names\n",
    "for sheet_name in sheet_list:\n",
    "    new_column_names = [re.sub('[\\W_]', '', name) for name in data[sheet_name].columns.values.tolist()]\n",
    "    new_column_names[-2:] = ['statistics', 'values']\n",
    "    data[sheet_name].columns = new_column_names\n",
    "    \n",
    "data['Diff Abdominal'].head()"
   ]
  },
  {
   "cell_type": "code",
   "execution_count": 20,
   "metadata": {},
   "outputs": [],
   "source": [
    "#plotting function\n",
    "def plot_sequence(name, vtype):\n",
    "    \n",
    "    CL = data[name]['values'][11]\n",
    "    LCL = data[name]['values'][12]\n",
    "    AL = data[name]['values'][13]\n",
    "    \n",
    "    fig = plt.figure()\n",
    "    ax = plt.subplot(111)\n",
    "    \n",
    "    if vtype==\"G33L\":\n",
    "        ax.plot(data[name].ID, data[name].G33L, 'o-', label=\"$\\gamma$33L\")\n",
    "        ax.set_ylabel(r\"Gamma 3% 3mm\")\n",
    "        ax.set_ylim(0.7, 1.05)\n",
    "    elif vtype==\"G32G\":\n",
    "        ax.plot(data[name].ID, data[name].G32G, 'o-', label=\"$\\gamma$32G\")\n",
    "        ax.set_ylabel(r\"Gamma 3% 2mm\")\n",
    "        ax.set_ylim(0.7, 1.05)\n",
    "    elif vtype==\"Diff\":\n",
    "        ax.plot(data[name].ID, data[name].DIFF, 'o-', label=\"%Diff\")\n",
    "        ax.set_ylabel(r\"Difference (%)\") \n",
    "        ax.set_ylim(-0.1, 0.1)\n",
    "    else:\n",
    "        raise Exception(\"Invalid type for the plot\")\n",
    "    \n",
    "    ax.set_xlabel(r\"Measurement Number\")\n",
    "    \n",
    "    ax.set_title(name)\n",
    "    \n",
    "    ax.axhline(y = CL, xmin=0, xmax=20, color=\"green\", linestyle='-', linewidth=1, label='CentL')\n",
    "    ax.axhline(y = LCL, xmin=0, xmax=20, color=\"magenta\", linestyle='--', linewidth=1, label='LCL')\n",
    "    ax.axhline(y = AL, xmin=0, xmax=20, color=\"red\", linestyle=(0, (5,10)), linewidth=1, label='AL')\n",
    "    \n",
    "    ax.legend(bbox_to_anchor=(1.0,1), loc=\"upper left\")\n",
    "    \n",
    "    return ax, fig"
   ]
  },
  {
   "cell_type": "code",
   "execution_count": 8,
   "metadata": {},
   "outputs": [
    {
     "data": {
      "text/plain": [
       "(<matplotlib.axes._subplots.AxesSubplot at 0x8795690>,\n",
       " <Figure size 432x288 with 1 Axes>)"
      ]
     },
     "execution_count": 8,
     "metadata": {},
     "output_type": "execute_result"
    },
    {
     "data": {
      "image/png": "[encoded data removed]",
      "text/plain": [
       "<Figure size 432x288 with 1 Axes>"
      ]
     },
     "metadata": {},
     "output_type": "display_data"
    }
   ],
   "source": [
    "plot_sequence(\"G33L Abdominal \", \"G33L\")"
   ]
  },
  {
   "cell_type": "code",
   "execution_count": 10,
   "metadata": {},
   "outputs": [
    {
     "data": {
      "text/plain": [
       "(<matplotlib.axes._subplots.AxesSubplot at 0x882d650>,\n",
       " <Figure size 432x288 with 1 Axes>)"
      ]
     },
     "execution_count": 10,
     "metadata": {},
     "output_type": "execute_result"
    },
    {
     "data": {
      "image/png": "[encoded data removed]",
      "text/plain": [
       "<Figure size 432x288 with 1 Axes>"
      ]
     },
     "metadata": {},
     "output_type": "display_data"
    }
   ],
   "source": [
    "plot_sequence(\"G32G Abdominal\", \"G32G\")"
   ]
  },
  {
   "cell_type": "code",
   "execution_count": 21,
   "metadata": {},
   "outputs": [
    {
     "data": {
      "text/plain": [
       "(<matplotlib.axes._subplots.AxesSubplot at 0x82ceef0>,\n",
       " <Figure size 432x288 with 1 Axes>)"
      ]
     },
     "execution_count": 21,
     "metadata": {},
     "output_type": "execute_result"
    },
    {
     "data": {
      "image/png": "[encoded data removed]",
      "text/plain": [
       "<Figure size 432x288 with 1 Axes>"
      ]
     },
     "metadata": {},
     "output_type": "display_data"
    }
   ],
   "source": [
    "plot_sequence(\"Diff Abdominal\", \"Diff\")"
   ]
  }
 ],
 "metadata": {
  "kernelspec": {
   "display_name": "Python 3",
   "language": "python",
   "name": "python3"
  },
  "language_info": {
   "codemirror_mode": {
    "name": "ipython",
    "version": 3
   },
   "file_extension": ".py",
   "mimetype": "text/x-python",
   "name": "python",
   "nbconvert_exporter": "python",
   "pygments_lexer": "ipython3",
   "version": "3.6.5"
  }
 },
 "nbformat": 4,
 "nbformat_minor": 2
}
