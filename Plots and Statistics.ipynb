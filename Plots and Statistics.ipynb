{
 "cells": [
  {
   "cell_type": "code",
   "execution_count": 1,
   "metadata": {},
   "outputs": [],
   "source": [
    "import numpy as np\n",
    "import matplotlib.pyplot as plt\n",
    "import pandas as pd\n",
    "from pandas_ods_reader import read_ods"
   ]
  },
  {
   "cell_type": "code",
   "execution_count": 2,
   "metadata": {},
   "outputs": [],
   "source": [
    "#read file\n",
    "#from pandas_ods_reader import read_ods\n",
    "file = r'MasterFile - Year 2017.ods'\n",
    "data = read_ods(file, 1)"
   ]
  },
  {
   "cell_type": "code",
   "execution_count": 3,
   "metadata": {},
   "outputs": [
    {
     "data": {
      "text/html": [
       "<div>\n",
       "<style scoped>\n",
       "    .dataframe tbody tr th:only-of-type {\n",
       "        vertical-align: middle;\n",
       "    }\n",
       "\n",
       "    .dataframe tbody tr th {\n",
       "        vertical-align: top;\n",
       "    }\n",
       "\n",
       "    .dataframe thead th {\n",
       "        text-align: right;\n",
       "    }\n",
       "</style>\n",
       "<table border=\"1\" class=\"dataframe\">\n",
       "  <thead>\n",
       "    <tr style=\"text-align: right;\">\n",
       "      <th></th>\n",
       "      <th>ID</th>\n",
       "      <th>DMES</th>\n",
       "      <th>DCAL</th>\n",
       "      <th>G33L</th>\n",
       "      <th>CLG33L</th>\n",
       "      <th>DIFF</th>\n",
       "      <th>MR</th>\n",
       "      <th>05/08/17 – 15/02/28</th>\n",
       "      <th>unnamed.3</th>\n",
       "    </tr>\n",
       "  </thead>\n",
       "  <tbody>\n",
       "    <tr>\n",
       "      <th>0</th>\n",
       "      <td>1.0</td>\n",
       "      <td>1.798717</td>\n",
       "      <td>1.778</td>\n",
       "      <td>0.971</td>\n",
       "      <td>0.04855</td>\n",
       "      <td>NaN</td>\n",
       "      <td>NaN</td>\n",
       "      <td>Gamma average</td>\n",
       "      <td>0.972400</td>\n",
       "    </tr>\n",
       "    <tr>\n",
       "      <th>1</th>\n",
       "      <td>2.0</td>\n",
       "      <td>1.779716</td>\n",
       "      <td>1.816</td>\n",
       "      <td>0.968</td>\n",
       "      <td>0.09695</td>\n",
       "      <td>0.003</td>\n",
       "      <td>NaN</td>\n",
       "      <td>STAN-DEV</td>\n",
       "      <td>0.000558</td>\n",
       "    </tr>\n",
       "    <tr>\n",
       "      <th>2</th>\n",
       "      <td>3.0</td>\n",
       "      <td>1.762920</td>\n",
       "      <td>1.786</td>\n",
       "      <td>0.999</td>\n",
       "      <td>0.14690</td>\n",
       "      <td>0.031</td>\n",
       "      <td>0.001789</td>\n",
       "      <td>β</td>\n",
       "      <td>6.000000</td>\n",
       "    </tr>\n",
       "    <tr>\n",
       "      <th>3</th>\n",
       "      <td>4.0</td>\n",
       "      <td>2.023142</td>\n",
       "      <td>1.991</td>\n",
       "      <td>0.961</td>\n",
       "      <td>0.19495</td>\n",
       "      <td>0.038</td>\n",
       "      <td>0.003789</td>\n",
       "      <td>T</td>\n",
       "      <td>1.000000</td>\n",
       "    </tr>\n",
       "    <tr>\n",
       "      <th>4</th>\n",
       "      <td>5.0</td>\n",
       "      <td>2.100162</td>\n",
       "      <td>2.069</td>\n",
       "      <td>0.998</td>\n",
       "      <td>0.24485</td>\n",
       "      <td>0.037</td>\n",
       "      <td>0.005737</td>\n",
       "      <td>Width AL</td>\n",
       "      <td>0.217966</td>\n",
       "    </tr>\n",
       "  </tbody>\n",
       "</table>\n",
       "</div>"
      ],
      "text/plain": [
       "   ID       DMES   DCAL   G33L   CLG33L   DIFF        MR 05/08/17 – 15/02/28  \\\n",
       "0  1.0  1.798717  1.778  0.971  0.04855    NaN       NaN       Gamma average   \n",
       "1  2.0  1.779716  1.816  0.968  0.09695  0.003       NaN            STAN-DEV   \n",
       "2  3.0  1.762920  1.786  0.999  0.14690  0.031  0.001789                   β   \n",
       "3  4.0  2.023142  1.991  0.961  0.19495  0.038  0.003789                   T   \n",
       "4  5.0  2.100162  2.069  0.998  0.24485  0.037  0.005737           Width AL    \n",
       "\n",
       "   unnamed.3  \n",
       "0   0.972400  \n",
       "1   0.000558  \n",
       "2   6.000000  \n",
       "3   1.000000  \n",
       "4   0.217966  "
      ]
     },
     "execution_count": 3,
     "metadata": {},
     "output_type": "execute_result"
    }
   ],
   "source": [
    "data.head()"
   ]
  },
  {
   "cell_type": "code",
   "execution_count": null,
   "metadata": {},
   "outputs": [],
   "source": []
  }
 ],
 "metadata": {
  "kernelspec": {
   "display_name": "Python 3",
   "language": "python",
   "name": "python3"
  },
  "language_info": {
   "codemirror_mode": {
    "name": "ipython",
    "version": 3
   },
   "file_extension": ".py",
   "mimetype": "text/x-python",
   "name": "python",
   "nbconvert_exporter": "python",
   "pygments_lexer": "ipython3",
   "version": "3.6.5"
  }
 },
 "nbformat": 4,
 "nbformat_minor": 2
}
